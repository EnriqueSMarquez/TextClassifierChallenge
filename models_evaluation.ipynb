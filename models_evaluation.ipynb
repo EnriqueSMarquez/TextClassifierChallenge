{
 "cells": [
  {
   "cell_type": "markdown",
   "metadata": {},
   "source": [
    "## Models evaluation\n",
    "### BagOfWords + SupportVectorMachine"
   ]
  },
  {
   "cell_type": "code",
   "execution_count": 16,
   "metadata": {},
   "outputs": [
    {
     "name": "stderr",
     "output_type": "stream",
     "text": [
      "\r",
      "Processed documents:   0%|          | 0/886 [00:00<?, ?it/s]"
     ]
    },
    {
     "name": "stdout",
     "output_type": "stream",
     "text": [
      "Building feature vectors. n_jobs=6\n"
     ]
    },
    {
     "name": "stderr",
     "output_type": "stream",
     "text": [
      "Processed documents: 100%|██████████| 886/886 [00:58<00:00, 15.12it/s]\n"
     ]
    },
    {
     "name": "stdout",
     "output_type": "stream",
     "text": [
      "Transforming document feature vectors & preparing entities as targets\n"
     ]
    },
    {
     "data": {
      "application/vnd.jupyter.widget-view+json": {
       "model_id": "6ee2c3c4e6b34d1eba8c03759ec93d08",
       "version_major": 2,
       "version_minor": 0
      },
      "text/plain": [
       "HBox(children=(FloatProgress(value=1.0, bar_style='info', max=1.0), HTML(value='')))"
      ]
     },
     "metadata": {},
     "output_type": "display_data"
    },
    {
     "name": "stdout",
     "output_type": "stream",
     "text": [
      "\n"
     ]
    }
   ],
   "source": [
    "import json\n",
    "import os\n",
    "import numpy as np\n",
    "from data_processing import FullOneHot\n",
    "import joblib\n",
    "from tqdm.notebook import tqdm\n",
    "\n",
    "weights_path = './run1-bow-word-svm/'\n",
    "datapath = './data/hypatos-ds-test.json'\n",
    "dictionary = json.load(open(os.path.join(weights_path,'dictionary.json'),'r'))\n",
    "data = FullOneHot(datapath,chop_dataset_th=0.,dictionary=dictionary)\n",
    "data.build_dataset()\n",
    "kmeans_model = joblib.load(open(os.path.join(weights_path,'bow.pkl'),'rb'))\n",
    "x = []\n",
    "y = []\n",
    "print('Transforming document feature vectors & preparing entities as targets')\n",
    "for words_fv,entities in tqdm(zip(data.X,data.Y)):\n",
    "    fvs = kmeans_model.transform(words_fv)\n",
    "    entities_vector = np.zeros((len(fvs),)).astype(int)\n",
    "    for entity in entities:\n",
    "        entities_vector[entity] = 1\n",
    "    x += [fvs]\n",
    "    y += [entities_vector]\n",
    "x = np.vstack(x)\n",
    "y = np.hstack(y)\n"
   ]
  },
  {
   "cell_type": "code",
   "execution_count": 17,
   "metadata": {},
   "outputs": [
    {
     "name": "stderr",
     "output_type": "stream",
     "text": [
      "[Parallel(n_jobs=6)]: Using backend LokyBackend with 6 concurrent workers.\n",
      "[Parallel(n_jobs=6)]: Done   2 out of   6 | elapsed:  9.4min remaining: 18.8min\n",
      "[Parallel(n_jobs=6)]: Done   6 out of   6 | elapsed: 14.9min finished\n"
     ]
    }
   ],
   "source": [
    "svm = joblib.load(open(os.path.join(weights_path,'svm.pkl'),'rb'))\n",
    "svm.n_jobs = 6\n",
    "predictions = svm.predict_proba(x)\n",
    "svm_pr_curve = metrics.precision_recall_curve(y,predictions[:,1])#precision,recall,scores"
   ]
  },
  {
   "cell_type": "markdown",
   "metadata": {},
   "source": [
    "### Transformer text classifier"
   ]
  },
  {
   "cell_type": "code",
   "execution_count": 23,
   "metadata": {},
   "outputs": [
    {
     "name": "stdout",
     "output_type": "stream",
     "text": [
      "Loading dictionary\n",
      "Loading model at ./run13-selfattention-bbox-encoding/self-attention-epoch_1.pt\n"
     ]
    },
    {
     "data": {
      "application/vnd.jupyter.widget-view+json": {
       "model_id": "27799364c68d40a7aa1371571dfbaa18",
       "version_major": 2,
       "version_minor": 0
      },
      "text/plain": [
       "HBox(children=(FloatProgress(value=0.0, max=886.0), HTML(value='')))"
      ]
     },
     "metadata": {},
     "output_type": "display_data"
    },
    {
     "name": "stdout",
     "output_type": "stream",
     "text": [
      "\n"
     ]
    }
   ],
   "source": [
    "\n",
    "import torch\n",
    "from data_processing import RawDataYielder\n",
    "import json\n",
    "from torch.utils.data import DataLoader\n",
    "from tqdm.notebook import tqdm\n",
    "from transformers import TransformerTextClassifier\n",
    "\n",
    "model_path = './run13-selfattention-bbox-encoding/self-attention-epoch_1.pt'\n",
    "datapath = './data/hypatos-ds-test.json'\n",
    "print('Loading dictionary')\n",
    "dictionary = json.load(open('./run10-selfattention-bbox-encoding/dictionary.json','r'))\n",
    "print('Loading model at {}'.format(model_path))\n",
    "if torch.cuda.is_available():\n",
    "    device = torch.device('cuda')\n",
    "else:\n",
    "    device = torch.device('cpu')\n",
    "selfattention = torch.load(model_path,map_location=device)\n",
    "data = RawDataYielder(json_path=datapath,\n",
    "                      dictionary=dictionary)\n",
    "data_batcher = DataLoader(data,batch_size=1,num_workers=1,drop_last=True,shuffle=False) #Change data loader\n",
    "selfattention.eval()\n",
    "predictions = []\n",
    "targets = []\n",
    "with torch.no_grad():\n",
    "    for idx, batch in tqdm(enumerate(data_batcher),total=len(data)):\n",
    "        sequence = batch[0]\n",
    "        target = batch[1]\n",
    "        positions_x = batch[2].float()\n",
    "        positions_y = batch[3].float()\n",
    "        positions_page = batch[4].float()\n",
    "        target = torch.autograd.Variable(target).long()\n",
    "        if torch.cuda.is_available():\n",
    "            sequence = sequence.cuda()\n",
    "            target = target.cuda()\n",
    "            positions_x = positions_x.cuda()\n",
    "            positions_y = positions_y.cuda()\n",
    "            positions_page = positions_page.cuda()\n",
    "        prediction = selfattention(sequence,positions_x,positions_y,positions_page)\n",
    "        predictions += [torch.sigmoid(prediction).cpu().numpy()]\n",
    "        targets += [target.cpu().numpy()]\n",
    "        "
   ]
  },
  {
   "cell_type": "markdown",
   "metadata": {},
   "source": [
    "### Precision & Recall curves"
   ]
  },
  {
   "cell_type": "code",
   "execution_count": 24,
   "metadata": {},
   "outputs": [
    {
     "data": {
      "text/plain": [
       "(0.0, 1.0)"
      ]
     },
     "execution_count": 24,
     "metadata": {},
     "output_type": "execute_result"
    },
    {
     "data": {
      "image/png": "[encoded data removed]",
      "text/plain": [
       "<Figure size 864x720 with 1 Axes>"
      ]
     },
     "metadata": {
      "needs_background": "light"
     },
     "output_type": "display_data"
    }
   ],
   "source": [
    "from sklearn import metrics\n",
    "import matplotlib\n",
    "import matplotlib.pyplot as plt\n",
    "import seaborn as sb\n",
    "import numpy as np\n",
    "\n",
    "all_predictions = np.hstack(predictions)\n",
    "all_targets = np.hstack(targets)\n",
    "# print(all_predictions.shape)\n",
    "# print(all_targets.shape)\n",
    "transformer_pr_curve = metrics.precision_recall_curve(all_targets[0],all_predictions[0])#precision,recall,scores\n",
    "\n",
    "plt.figure(figsize=(12,10))\n",
    "plt.plot(transformer_pr_curve[1],transformer_pr_curve[0],label='Transformer')\n",
    "plt.plot(svm_pr_curve[1],svm_pr_curve[0],label='SVM')\n",
    "plt.legend(loc=0)\n",
    "plt.xlabel('RECALL')\n",
    "plt.ylabel('PRECISION')\n",
    "plt.xlim([0.,1.])\n",
    "plt.ylim([0.,1.])"
   ]
  }
 ],
 "metadata": {
  "kernelspec": {
   "display_name": "Python 3",
   "language": "python",
   "name": "python3"
  },
  "language_info": {
   "codemirror_mode": {
    "name": "ipython",
    "version": 3
   },
   "file_extension": ".py",
   "mimetype": "text/x-python",
   "name": "python",
   "nbconvert_exporter": "python",
   "pygments_lexer": "ipython3",
   "version": "3.7.7"
  }
 },
 "nbformat": 4,
 "nbformat_minor": 4
}
